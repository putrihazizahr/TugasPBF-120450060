{
  "cells": [
    {
      "cell_type": "markdown",
      "metadata": {
        "id": "pO_inL0Xtg8i"
      },
      "source": [
        "**Putri Hazizah Rahwani**\n",
        "\n",
        "**120450060**\n",
        "\n",
        "**Sains Data**\n",
        "\n"
      ]
    },
    {
      "cell_type": "markdown",
      "metadata": {
        "id": "tOnEZKzdtWHs"
      },
      "source": [
        "# **Exercise 1**\n",
        "Implementasikan Soal menggunakan Python"
      ]
    },
    {
      "cell_type": "markdown",
      "metadata": {
        "id": "qF15noqLtihz"
      },
      "source": [
        "Simple Password Encryption [Case 1]\n",
        "Seorang user dari sebuah website ingin meningkatkan security dari password yang dia miliki dengan metode\n",
        "mengubah password nya menjadi bentuk lain dengan beberapa aturan enkripsi sebagai berikut:\n",
        "1. Input password bertipe string dengan batasan panjang password 100 karakter\n",
        "2. Setiap karakter dari string tersebut diubah menjadi ASCII value\n",
        "3. Kemudian setiap ASCII value tersebut dikembangkan menjadi 3 value dengan dilakukan operasi berikut:\n",
        "a. Value pertama dibagi dengan integer 26 kemudian dibulatkan dan dijumlahkan dengan 80\n",
        "kemudian diubah kembali menjadi karakter\n",
        "b. Value kedua dihitung sisa bagi dengan 26 kemudian dijumlahkan dengan 80 kemudian diubah\n",
        "kembali menjadi karakter\n",
        "c. Value ketiga adalah karakter ‘+’ jika value pertama lebih besar dari value kedua, atau value ketiga\n",
        "adalah karakter ‘-’ jika value pertama tidak lebih besar dari value kedua\n",
        "\n",
        "4. Deretkan value pertama, kedua dan ketiga untuk setiap karakter dalam password tersebut sehingga\n",
        "didapatkan password dalam bentuk baru\n",
        "\n",
        "a. Bantulah user tersebut dengan membuatkan sebuah program yang secara\n",
        "otomatis mengubah password yang di input menjadi terenkripsi sesuai aturan\n",
        "tersebut!\n",
        "\n",
        "b. Apa output yang dihasilkan dari program tersebut jika input password adalah\n",
        "‘anakanakcerdas2020’ ?\n",
        "c. (Bonus) User tersebut lupa password asli yang dia inputkan ke dalam program\n",
        "tersebut, password setelah dienkripsi adalah\n",
        "‘Sc-TV-Sc-TS+T[-Sc-TQ+TV-T[-Sf-Sc-T\\-Sc-Qh-Qf-Qh-Qf-TS+Sg-Se-Sg-’.\n",
        "Bantulah user tersebut mendapatkan password asli nya!"
      ]
    },
    {
      "cell_type": "code",
      "execution_count": 1,
      "metadata": {
        "colab": {
          "base_uri": "https://localhost:8080/"
        },
        "id": "nNqBpxAgtUZt",
        "outputId": "b1b74a34-75f4-43f6-831e-1d051c3c1a46"
      },
      "outputs": [
        {
          "name": "stdout",
          "output_type": "stream",
          "text": [
            "Enkripsi Password:\n",
            "Original Password : anakanakcerdas2020\n",
            "Encrypted Password : Sc-TV-Sc-TS+Sc-TV-Sc-TS+Se-Sg-TZ-Sf-Sc-T[-Qh-Qf-Qh-Qf-\n",
            "Get Original Password:\n",
            "Encrypted Password : Sc-TV-Sc-TS+T[-Sc-TQ+TV-T[-Sf-Sc-T\\-Sc-Qh-Qf-Qh-Qf-TS+Sg-Se-Sg-\n",
            "Original Password : anaksainsdata2020kece\n"
          ]
        }
      ],
      "source": [
        "def encrypted_password(pwd):\n",
        "  password = list(pwd)\n",
        "\n",
        "  asciivalue = list()\n",
        "  for char in password:\n",
        "    asciichar = ord(char)\n",
        "    asciivalue.append(asciichar)\n",
        "\n",
        "  newpassword = \"\"\n",
        "  for num in asciivalue:\n",
        "    satu = num//26 + 80\n",
        "    dua = num%26 + 80\n",
        "    if satu > dua:\n",
        "      tiga = '+'\n",
        "    else:\n",
        "      tiga = '-'\n",
        "\n",
        "    newpassword = newpassword + chr(satu) + chr(dua) + tiga\n",
        "\n",
        "  return newpassword\n",
        "\n",
        "def original_password(pwd):\n",
        "  password = [pwd[i:i+3] for i in range(0, len(pwd), 3)]\n",
        "\n",
        "  asciivalue = list()\n",
        "  for word in password:\n",
        "    kesatu = ord(word[0]) - 80\n",
        "    kedua = ord(word[1]) - 80\n",
        "    nilai = 26 * kesatu + kedua\n",
        "    asciivalue.append(nilai)\n",
        "\n",
        "  passwordo = ''\n",
        "  for i in asciivalue:\n",
        "    char = chr(i)\n",
        "    passwordo = passwordo + char\n",
        "\n",
        "  return passwordo\n",
        "  \n",
        "print(\"Enkripsi Password:\")\n",
        "paswor = \"anakanakcerdas2020\"\n",
        "print (\"Original Password : \" + paswor)\n",
        "print (\"Encrypted Password : \" + encrypted_password(paswor))\n",
        "# Output : Original Password : anakanakcerdas2020\n",
        "# Output : Encrypted Password : Sc-TV-Sc-TS+Sc-TV-Sc-TS+Se-Sg-TZ-Sf-Sc-T[-Qh-Qf-Qh-Qf-\n",
        "\n",
        "\n",
        "print(\"Get Original Password:\")\n",
        "pasword = \"Sc-TV-Sc-TS+T[-Sc-TQ+TV-T[-Sf-Sc-T\\-Sc-Qh-Qf-Qh-Qf-TS+Sg-Se-Sg-\"\n",
        "print (\"Encrypted Password : \" + pasword)\n",
        "print (\"Original Password : \" + original_password(pasword))\n",
        "# Output : Encrypted Password : Sc-TV-Sc-TS+T[-Sc-TQ+TV-T[-Sf-Sc-T\\-Sc-Qh-Qf-Qh-Qf-TS+Sg-Se-Sg-\n",
        "# Output : Original Password : anaksainsdata2020kece"
      ]
    }
  ],
  "metadata": {
    "colab": {
      "name": "Excercise 1.ipynb",
      "provenance": []
    },
    "kernelspec": {
      "display_name": "Python 3",
      "name": "python3"
    },
    "language_info": {
      "codemirror_mode": {
        "name": "ipython",
        "version": 3
      },
      "file_extension": ".py",
      "mimetype": "text/x-python",
      "name": "python",
      "nbconvert_exporter": "python",
      "pygments_lexer": "ipython3",
      "version": "3.9.7"
    }
  },
  "nbformat": 4,
  "nbformat_minor": 0
}
