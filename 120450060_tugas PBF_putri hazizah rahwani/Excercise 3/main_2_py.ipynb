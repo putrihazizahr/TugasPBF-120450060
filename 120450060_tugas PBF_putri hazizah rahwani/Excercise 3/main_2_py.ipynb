{
  "nbformat": 4,
  "nbformat_minor": 0,
  "metadata": {
    "colab": {
      "name": "main_2.py",
      "provenance": []
    },
    "kernelspec": {
      "name": "python3",
      "display_name": "Python 3"
    },
    "language_info": {
      "name": "python"
    }
  },
  "cells": [
    {
      "cell_type": "markdown",
      "source": [
        "**Putri Hazizah Rahwani**\n",
        "\n",
        "**120450060**\n",
        "\n",
        "**Sains Data**"
      ],
      "metadata": {
        "id": "EoFhieYg0ega"
      }
    },
    {
      "cell_type": "markdown",
      "source": [
        "# **Exercise 3**\n",
        "Implementasikan Soal menggunakan Python"
      ],
      "metadata": {
        "id": "5lbqFGSy0gUI"
      }
    },
    {
      "cell_type": "code",
      "execution_count": 4,
      "metadata": {
        "colab": {
          "base_uri": "https://localhost:8080/",
          "height": 131
        },
        "id": "QG6EzWfN0Z7i",
        "outputId": "bf7a8a87-ba13-4d06-8784-a6c5627e794b"
      },
      "outputs": [
        {
          "output_type": "error",
          "ename": "SyntaxError",
          "evalue": "ignored",
          "traceback": [
            "\u001b[0;36m  File \u001b[0;32m\"<ipython-input-4-d7f2e9e82df7>\"\u001b[0;36m, line \u001b[0;32m1\u001b[0m\n\u001b[0;31m    from solver import\u001b[0m\n\u001b[0m                       ^\u001b[0m\n\u001b[0;31mSyntaxError\u001b[0m\u001b[0;31m:\u001b[0m invalid syntax\n"
          ]
        }
      ],
      "source": [
        "from solver import \n",
        "from math import \n",
        "import matplotlib.pyplot as plt\n",
        "from metode_euler_ import \n",
        "\n",
        "def function(t,y,dy):\n",
        "    return (-1 *y) + (-1 * dy) + sin(t)**2\n",
        "\n",
        "res_euler = []\n",
        "res_eulercromer = []\n",
        "t = []\n",
        "\n",
        "params = {\n",
        "    't0' : 0,\n",
        "    \"t_akhir\" : 50,\n",
        "    \"h\" : 5 * 10**-2,\n",
        "    \"y0\" : 1,\n",
        "    \"dy0\" : -9/2\n",
        "}\n",
        "\n",
        "(t,res_euler_) = cauchy_euler(params,function)\n",
        "plt.plot(t,res_euler_,color='r',label = 'Euler ')\n",
        "\n",
        "(t,res_eulercromer_) = cauchy_eulercromer(params,function)\n",
        "plt.plot(t,res_eulercromer_,color='c',label = 'Euler-Cromer')\n",
        "plt.title('Euler vs Euler-Cromer at h= 0.5')\n",
        "plt.xlabel('t')\n",
        "plt.ylabel('y(t)')\n",
        "plt.ylim(-3,2)\n",
        "plt.legend()\n",
        "\n",
        "\n",
        "\n",
        "plt.show()"
      ]
    }
  ]
}