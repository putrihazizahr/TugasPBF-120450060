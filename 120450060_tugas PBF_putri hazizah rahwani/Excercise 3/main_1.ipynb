{
  "nbformat": 4,
  "nbformat_minor": 0,
  "metadata": {
    "colab": {
      "name": "main_1.ipynb",
      "provenance": []
    },
    "kernelspec": {
      "name": "python3",
      "display_name": "Python 3"
    },
    "language_info": {
      "name": "python"
    }
  },
  "cells": [
    {
      "cell_type": "code",
      "execution_count": null,
      "metadata": {
        "id": "h6lZJRKD5jzn"
      },
      "outputs": [],
      "source": [
        "from solver import *\n",
        "from math import *\n",
        "import matplotlib.pyplot as plt\n",
        "\n",
        "g = 9.81                                    \n",
        "l = 1                                       \n",
        "k = 0                                       \n",
        "u0 = 0.5 * pi\n",
        "du0 = 0\n",
        "t0 = 0\n",
        "t_akhir = 4\n",
        "h = 0.01\n",
        "w0 = g/l\n",
        "\n",
        "def function(t,u,du):\n",
        "    return w0 * sin(u) -k*du\n",
        "\n",
        "res_euler_ = []\n",
        "res_eulercromer_ = []\n",
        "t = []\n",
        "step_ = int((t_akhir - t0) / h)\n",
        "\n",
        "for i in range(step_):\n",
        "    tm = (i + 1) * h\n",
        "    (u_nxt, du_nxt) = euler_(tm, h, u0, du0, function)\n",
        "    res_euler_.append(u_nxt)\n",
        "    t.append(tm)\n",
        "    u0 = u_nxt\n",
        "    du0 = du_nxt\n",
        "\n",
        "t = []\n",
        "u0 = 0.5 * pi\n",
        "du0 = 0\n",
        "d2u0 = function(t0,u0,du0)\n",
        "\n",
        "for i in range(step_):\n",
        "    tm = (i + 1) * h\n",
        "    (u_nxt, du_nxt) = euler_cromer_(tm, h, u0, du0, function)\n",
        "    res_eulercromer_.append(u_nxt)\n",
        "    t.append(tm)\n",
        "    u0 = u_nxt\n",
        "    du0 = du_nxt"
      ]
    },
    {
      "cell_type": "code",
      "source": [
        "plt.title('Non-Linear Pendulum h =0.01')\n",
        "plt.plot(t,res_euler_,color='b', label = 'Euler')\n",
        "plt.plot(t,res_eulercromer_,color='r', label = 'Euler Cromer')\n",
        "plt.xlabel('t')\n",
        "plt.ylabel('u(t)')\n",
        "plt.legend()\n",
        "\n",
        "plt.show()"
      ],
      "metadata": {
        "id": "1Doz_MVo5wLH"
      },
      "execution_count": null,
      "outputs": []
    }
  ]
}