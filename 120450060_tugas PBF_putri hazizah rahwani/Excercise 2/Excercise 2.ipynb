{
  "cells": [
    {
      "cell_type": "markdown",
      "metadata": {
        "id": "R4NwC4S5vwL0"
      },
      "source": [
        "**Putri Hazizah Rahwani**\n",
        "\n",
        "**120450060**\n",
        "\n",
        "**Sains Data**\n"
      ]
    },
    {
      "cell_type": "markdown",
      "metadata": {
        "id": "FXObRD4ev7Aj"
      },
      "source": [
        "# **Exercise 2**\n",
        "Implementasikan Soal menggunakan Python"
      ]
    },
    {
      "cell_type": "markdown",
      "metadata": {
        "id": "u1gCVExywB2H"
      },
      "source": [
        "**Big Number Addition [Case 2]**\n",
        "9502561694858652150281747994108545943651521215096841995237040384\n",
        "498740803993469376602031341619585763\n",
        "\n",
        "+\n",
        "2116068642696162934965789080530992805391900568978958496201555855\n",
        "833896833372295507803936243187061092\n",
        "\n",
        "= ?\n",
        "\n",
        "Selesaikan penjumlahan 100 digit tersebut dengan membuat program dengan\n",
        "langkah sebagai berikut:\n",
        "\n",
        "● Buat file txt untuk bilangan pertama\n",
        "● Buat file txt untuk bilangan ketiga\n",
        "● Input file txt bilangan pertama dan bilangan kedua\n",
        "● Buatlah program untuk menghitung penjumlahan kedua bilangan tersebut\n",
        "\n",
        "Implementasikan konsep fungsi yang telah dipelajari ke dalam pembuatan program\n",
        "tersebut! Sertakan juga screenshot hasil program nya!"
      ]
    },
    {
      "cell_type": "code",
      "execution_count": 1,
      "metadata": {
        "colab": {
          "base_uri": "https://localhost:8080/"
        },
        "id": "2QcuEPjIuj4C",
        "outputId": "b1eefef3-d150-44b4-fde6-31b829f81dd9"
      },
      "outputs": [
        {
          "name": "stdout",
          "output_type": "stream",
          "text": [
            "19005123389717303978823599459649531186333856127430852213854218453948536901765341177273137324533743616\n"
          ]
        }
      ],
      "source": [
        "import numpy as np\n",
        "bil1 = open(\"file1.txt\", 'w')\n",
        "bil1.write(\"9502561694858652150281747994108545943651521215096841995237040384498740803993469376602031341619585763\")\n",
        "bil1.close()\n",
        "bil2 = open(\"file1.txt\", 'r')\n",
        "df1=np.array(bil2.read().split(\"\\n\")).astype(float)\n",
        "df2 = int(df1)\n",
        "\n",
        "\n",
        "bil3 = open(\"file2.txt\", 'w')\n",
        "bil3.write(\"2116068642696162934965789080530992805391900568978958496201555855833896833372295507803936243187061092\")\n",
        "bil3.close()\n",
        "bil4 = open(\"file2.txt\", 'r')\n",
        "df3=np.array(bil4.read().split(\"\\n\")).astype(float)\n",
        "df4 = int(df2)\n",
        "\n",
        "df5 = df2 + df4\n",
        "print(df5)"
      ]
    }
  ],
  "metadata": {
    "colab": {
      "name": "Excercise2.ipynb",
      "provenance": []
    },
    "kernelspec": {
      "display_name": "Python 3",
      "name": "python3"
    },
    "language_info": {
      "codemirror_mode": {
        "name": "ipython",
        "version": 3
      },
      "file_extension": ".py",
      "mimetype": "text/x-python",
      "name": "python",
      "nbconvert_exporter": "python",
      "pygments_lexer": "ipython3",
      "version": "3.9.7"
    }
  },
  "nbformat": 4,
  "nbformat_minor": 0
}
